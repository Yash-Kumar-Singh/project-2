{
 "cells": [
  {
   "cell_type": "code",
   "execution_count": 2,
   "metadata": {},
   "outputs": [
    {
     "name": "stderr",
     "output_type": "stream",
     "text": [
      "Using TensorFlow backend.\n"
     ]
    }
   ],
   "source": [
    "import numpy as np\n",
    "from keras import layers\n",
    "from keras.layers import Input, Dense, Activation, ZeroPadding2D, BatchNormalization, Flatten, Conv2D\n",
    "from keras.layers import AveragePooling2D, MaxPooling2D, Dropout, GlobalMaxPooling2D, GlobalAveragePooling2D\n",
    "from keras.models import Model\n",
    "from keras.preprocessing import image\n",
    "from keras.utils import layer_utils\n",
    "from keras.utils.data_utils import get_file\n",
    "from keras.applications.imagenet_utils import preprocess_input\n",
    "import pydot\n",
    "from IPython.display import SVG\n",
    "from keras.utils.vis_utils import model_to_dot\n",
    "from keras.utils import plot_model\n",
    "from kt_utils import *\n",
    "\n",
    "import keras.backend as K\n",
    "K.set_image_data_format('channels_last')\n",
    "import matplotlib.pyplot as plt\n",
    "from matplotlib.pyplot import imshow\n",
    "\n",
    "%matplotlib inline"
   ]
  },
  {
   "cell_type": "code",
   "execution_count": null,
   "metadata": {
    "collapsed": true
   },
   "outputs": [],
   "source": [
    "import keras.backend as K\n",
    "import math\n",
    "import numpy as np\n",
    "import h5py\n",
    "import matplotlib.pyplot as plt\n",
    "\n",
    "\n",
    "def mean_pred(y_true, y_pred):\n",
    "    return K.mean(y_pred)\n",
    "\n",
    "def load_dataset():\n",
    "    train_dataset = h5py.File('datasets/train_happy.h5', \"r\")\n",
    "    train_set_x_orig = np.array(train_dataset[\"train_set_x\"][:]) # your train set features\n",
    "    train_set_y_orig = np.array(train_dataset[\"train_set_y\"][:]) # your train set labels\n",
    "\n",
    "    test_dataset = h5py.File('datasets/test_happy.h5', \"r\")\n",
    "    test_set_x_orig = np.array(test_dataset[\"test_set_x\"][:]) # your test set features\n",
    "    test_set_y_orig = np.array(test_dataset[\"test_set_y\"][:]) # your test set labels\n",
    "\n",
    "    classes = np.array(test_dataset[\"list_classes\"][:]) # the list of classes\n",
    "    \n",
    "    train_set_y_orig = train_set_y_orig.reshape((1, train_set_y_orig.shape[0]))\n",
    "    test_set_y_orig = test_set_y_orig.reshape((1, test_set_y_orig.shape[0]))\n",
    "    \n",
    "    return train_set_x_orig, train_set_y_orig, test_set_x_orig, test_set_y_orig, classes\n",
    "\n"
   ]
  },
  {
   "cell_type": "code",
   "execution_count": 3,
   "metadata": {},
   "outputs": [
    {
     "name": "stdout",
     "output_type": "stream",
     "text": [
      "number of training examples = 600\n",
      "number of test examples = 150\n",
      "X_train shape: (600, 64, 64, 3)\n",
      "Y_train shape: (600, 1)\n",
      "X_test shape: (150, 64, 64, 3)\n",
      "Y_test shape: (150, 1)\n"
     ]
    }
   ],
   "source": [
    "X_train_orig, Y_train_orig, X_test_orig, Y_test_orig, classes = load_dataset()\n",
    "\n",
    "# Normalize image vectors\n",
    "X_train = X_train_orig/255.\n",
    "X_test = X_test_orig/255.\n",
    "\n",
    "# Reshape\n",
    "Y_train = Y_train_orig.T\n",
    "Y_test = Y_test_orig.T\n",
    "\n",
    "print (\"number of training examples = \" + str(X_train.shape[0]))\n",
    "print (\"number of test examples = \" + str(X_test.shape[0]))\n",
    "print (\"X_train shape: \" + str(X_train.shape))\n",
    "print (\"Y_train shape: \" + str(Y_train.shape))\n",
    "print (\"X_test shape: \" + str(X_test.shape))\n",
    "print (\"Y_test shape: \" + str(Y_test.shape))"
   ]
  },
  {
   "cell_type": "code",
   "execution_count": 4,
   "metadata": {
    "collapsed": true
   },
   "outputs": [],
   "source": [
    "def HappyModel(input_shape):\n",
    "\n",
    "    # Define the input placeholder as a tensor with shape input_shape.\n",
    "    X_input = Input(input_shape)\n",
    "\n",
    "    # Zero-Padding: pads the border of X_input with zeroes\n",
    "    X = ZeroPadding2D((3, 3))(X_input)\n",
    "\n",
    "    # CONV -> BN -> RELU Block applied to X\n",
    "    X = Conv2D(32, (7, 7), strides=(1, 1), name='conv0')(X)\n",
    "    X = BatchNormalization(axis=3, name='bn0')(X)\n",
    "    X = Activation('relu')(X)\n",
    "\n",
    "    # MAXPOOL\n",
    "    X = MaxPooling2D((2, 2), name='max_pool')(X)\n",
    "\n",
    "    # FLATTEN X (means convert it to a vector) + FULLYCONNECTED\n",
    "    X = Flatten()(X)\n",
    "    X = Dense(1, activation='sigmoid', name='fc')(X)\n",
    "\n",
    "    # Create model. This creates your Keras model instance, you'll use this instance to train/test the model.\n",
    "    model = Model(inputs=X_input, outputs=X, name='HappyModel')\n",
    "\n",
    "    return model\n",
    "    "
   ]
  },
  {
   "cell_type": "code",
   "execution_count": 5,
   "metadata": {
    "collapsed": true
   },
   "outputs": [],
   "source": [
    "happyModel = HappyModel(X_train.shape[1:])"
   ]
  },
  {
   "cell_type": "code",
   "execution_count": 6,
   "metadata": {
    "collapsed": true
   },
   "outputs": [],
   "source": [
    "happyModel.compile('adam', 'binary_crossentropy', metrics=['accuracy'])"
   ]
  },
  {
   "cell_type": "code",
   "execution_count": null,
   "metadata": {},
   "outputs": [
    {
     "name": "stdout",
     "output_type": "stream",
     "text": [
      "Epoch 1/40\n",
      "600/600 [==============================] - 12s - loss: 2.9211 - acc: 0.5167    \n",
      "Epoch 2/40\n",
      "600/600 [==============================] - 13s - loss: 0.6117 - acc: 0.7500    \n",
      "Epoch 3/40\n",
      "600/600 [==============================] - 12s - loss: 0.3643 - acc: 0.8500    \n",
      "Epoch 4/40\n",
      "600/600 [==============================] - 12s - loss: 0.3312 - acc: 0.8600    \n",
      "Epoch 5/40\n",
      "600/600 [==============================] - 12s - loss: 0.1811 - acc: 0.9233    \n",
      "Epoch 6/40\n",
      "600/600 [==============================] - 12s - loss: 0.1368 - acc: 0.9433    \n",
      "Epoch 7/40\n",
      "600/600 [==============================] - 13s - loss: 0.1217 - acc: 0.9650    \n",
      "Epoch 8/40\n",
      "600/600 [==============================] - 13s - loss: 0.0925 - acc: 0.9650    \n",
      "Epoch 9/40\n",
      "600/600 [==============================] - 13s - loss: 0.0812 - acc: 0.9717    \n",
      "Epoch 10/40\n",
      "600/600 [==============================] - 12s - loss: 0.0846 - acc: 0.9667    \n",
      "Epoch 11/40\n",
      "600/600 [==============================] - 13s - loss: 0.0653 - acc: 0.9817    \n",
      "Epoch 12/40\n",
      "600/600 [==============================] - 13s - loss: 0.0788 - acc: 0.9733    \n",
      "Epoch 13/40\n",
      "600/600 [==============================] - 12s - loss: 0.0638 - acc: 0.9850    \n",
      "Epoch 14/40\n",
      "600/600 [==============================] - 11s - loss: 0.0616 - acc: 0.9867    \n",
      "Epoch 15/40\n",
      "600/600 [==============================] - 12s - loss: 0.0455 - acc: 0.9917    \n",
      "Epoch 16/40\n",
      "600/600 [==============================] - 14s - loss: 0.0466 - acc: 0.9850    \n",
      "Epoch 17/40\n",
      "600/600 [==============================] - 14s - loss: 0.0458 - acc: 0.9933    \n",
      "Epoch 18/40\n",
      "600/600 [==============================] - 14s - loss: 0.0434 - acc: 0.9933    \n",
      "Epoch 19/40\n",
      "600/600 [==============================] - 14s - loss: 0.0371 - acc: 0.9917    \n",
      "Epoch 20/40\n",
      "600/600 [==============================] - 14s - loss: 0.0314 - acc: 0.9917    \n",
      "Epoch 21/40\n",
      "600/600 [==============================] - 14s - loss: 0.0461 - acc: 0.9850    \n",
      "Epoch 22/40\n",
      "600/600 [==============================] - 14s - loss: 0.0307 - acc: 0.9917    \n",
      "Epoch 23/40\n",
      "600/600 [==============================] - 13s - loss: 0.0360 - acc: 0.9933    \n",
      "Epoch 24/40\n",
      "600/600 [==============================] - 13s - loss: 0.0335 - acc: 0.9867    \n",
      "Epoch 25/40\n",
      "600/600 [==============================] - 12s - loss: 0.0216 - acc: 0.9950    \n",
      "Epoch 26/40\n",
      "600/600 [==============================] - 12s - loss: 0.0325 - acc: 0.9883    \n",
      "Epoch 27/40\n",
      "600/600 [==============================] - 12s - loss: 0.0285 - acc: 0.9933    \n",
      "Epoch 28/40\n",
      "600/600 [==============================] - 12s - loss: 0.0267 - acc: 0.9933    \n",
      "Epoch 29/40\n",
      "600/600 [==============================] - 12s - loss: 0.0230 - acc: 0.9950    \n",
      "Epoch 30/40\n",
      "600/600 [==============================] - 11s - loss: 0.0194 - acc: 0.9950    \n",
      "Epoch 31/40\n",
      "600/600 [==============================] - 12s - loss: 0.0223 - acc: 0.9917    \n",
      "Epoch 32/40\n",
      "600/600 [==============================] - 12s - loss: 0.0241 - acc: 0.9967    \n",
      "Epoch 33/40\n",
      "600/600 [==============================] - 12s - loss: 0.0157 - acc: 0.9967    \n",
      "Epoch 34/40\n",
      "600/600 [==============================] - 11s - loss: 0.0182 - acc: 0.9933    \n",
      "Epoch 35/40\n",
      "600/600 [==============================] - 12s - loss: 0.0177 - acc: 0.9950    \n",
      "Epoch 36/40\n",
      "600/600 [==============================] - 11s - loss: 0.0164 - acc: 0.9967    \n",
      "Epoch 37/40\n"
     ]
    }
   ],
   "source": [
    "happyModel.fit(X_train, Y_train, epochs=40, batch_size=50)"
   ]
  },
  {
   "cell_type": "code",
   "execution_count": 24,
   "metadata": {
    "scrolled": true
   },
   "outputs": [
    {
     "name": "stdout",
     "output_type": "stream",
     "text": [
      "150/150 [==============================] - 1s     \n",
      "\n",
      "Loss = 0.153071361383\n",
      "Test Accuracy = 0.933333330949\n"
     ]
    }
   ],
   "source": [
    "preds = preds = happyModel.evaluate(X_test, Y_test, batch_size=32, verbose=1, sample_weight=None)\n",
    "\n",
    "print()\n",
    "print (\"Loss = \" + str(preds[0]))\n",
    "print (\"Test Accuracy = \" + str(preds[1]))"
   ]
  }
 ],
 "metadata": {
  "kernelspec": {
   "display_name": "Python 3",
   "language": "python",
   "name": "python3"
  },
  "language_info": {
   "codemirror_mode": {
    "name": "ipython",
    "version": 3
   },
   "file_extension": ".py",
   "mimetype": "text/x-python",
   "name": "python",
   "nbconvert_exporter": "python",
   "pygments_lexer": "ipython3",
   "version": "3.6.0"
  }
 },
 "nbformat": 4,
 "nbformat_minor": 2
}
